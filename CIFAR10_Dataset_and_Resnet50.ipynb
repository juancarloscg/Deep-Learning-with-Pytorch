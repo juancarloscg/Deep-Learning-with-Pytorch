{
  "nbformat": 4,
  "nbformat_minor": 0,
  "metadata": {
    "colab": {
      "name": "CIFAR10 Dataset and Resnet50.ipynb",
      "provenance": [],
      "collapsed_sections": [],
      "authorship_tag": "ABX9TyPjWUFytSYRc8Yh4fRKlDwR"
    },
    "kernelspec": {
      "name": "python3",
      "display_name": "Python 3"
    },
    "accelerator": "GPU",
    "widgets": {
      "application/vnd.jupyter.widget-state+json": {
        "d0eb3121159242b79c112588301c288b": {
          "model_module": "@jupyter-widgets/controls",
          "model_name": "HBoxModel",
          "state": {
            "_view_name": "HBoxView",
            "_dom_classes": [],
            "_model_name": "HBoxModel",
            "_view_module": "@jupyter-widgets/controls",
            "_model_module_version": "1.5.0",
            "_view_count": null,
            "_view_module_version": "1.5.0",
            "box_style": "",
            "layout": "IPY_MODEL_0e809541f48f4e188bc66639925d081f",
            "_model_module": "@jupyter-widgets/controls",
            "children": [
              "IPY_MODEL_a7ed57285ac84af89899b4a834181257",
              "IPY_MODEL_a27d442ad1b74cd186d0919a4508d08d"
            ]
          }
        },
        "0e809541f48f4e188bc66639925d081f": {
          "model_module": "@jupyter-widgets/base",
          "model_name": "LayoutModel",
          "state": {
            "_view_name": "LayoutView",
            "grid_template_rows": null,
            "right": null,
            "justify_content": null,
            "_view_module": "@jupyter-widgets/base",
            "overflow": null,
            "_model_module_version": "1.2.0",
            "_view_count": null,
            "flex_flow": null,
            "width": null,
            "min_width": null,
            "border": null,
            "align_items": null,
            "bottom": null,
            "_model_module": "@jupyter-widgets/base",
            "top": null,
            "grid_column": null,
            "overflow_y": null,
            "overflow_x": null,
            "grid_auto_flow": null,
            "grid_area": null,
            "grid_template_columns": null,
            "flex": null,
            "_model_name": "LayoutModel",
            "justify_items": null,
            "grid_row": null,
            "max_height": null,
            "align_content": null,
            "visibility": null,
            "align_self": null,
            "height": null,
            "min_height": null,
            "padding": null,
            "grid_auto_rows": null,
            "grid_gap": null,
            "max_width": null,
            "order": null,
            "_view_module_version": "1.2.0",
            "grid_template_areas": null,
            "object_position": null,
            "object_fit": null,
            "grid_auto_columns": null,
            "margin": null,
            "display": null,
            "left": null
          }
        },
        "a7ed57285ac84af89899b4a834181257": {
          "model_module": "@jupyter-widgets/controls",
          "model_name": "FloatProgressModel",
          "state": {
            "_view_name": "ProgressView",
            "style": "IPY_MODEL_5a32e26c434c4ffcaceba3942f24a20a",
            "_dom_classes": [],
            "description": "",
            "_model_name": "FloatProgressModel",
            "bar_style": "info",
            "max": 1,
            "_view_module": "@jupyter-widgets/controls",
            "_model_module_version": "1.5.0",
            "value": 1,
            "_view_count": null,
            "_view_module_version": "1.5.0",
            "orientation": "horizontal",
            "min": 0,
            "description_tooltip": null,
            "_model_module": "@jupyter-widgets/controls",
            "layout": "IPY_MODEL_f440ef19068e41c39f936332a1f1c94a"
          }
        },
        "a27d442ad1b74cd186d0919a4508d08d": {
          "model_module": "@jupyter-widgets/controls",
          "model_name": "HTMLModel",
          "state": {
            "_view_name": "HTMLView",
            "style": "IPY_MODEL_c4421ce23c5946e9a7bd77d3deb129b9",
            "_dom_classes": [],
            "description": "",
            "_model_name": "HTMLModel",
            "placeholder": "​",
            "_view_module": "@jupyter-widgets/controls",
            "_model_module_version": "1.5.0",
            "value": " 170500096/? [00:30&lt;00:00, 16617764.04it/s]",
            "_view_count": null,
            "_view_module_version": "1.5.0",
            "description_tooltip": null,
            "_model_module": "@jupyter-widgets/controls",
            "layout": "IPY_MODEL_0b33b54e0dc84762974052368b008b44"
          }
        },
        "5a32e26c434c4ffcaceba3942f24a20a": {
          "model_module": "@jupyter-widgets/controls",
          "model_name": "ProgressStyleModel",
          "state": {
            "_view_name": "StyleView",
            "_model_name": "ProgressStyleModel",
            "description_width": "initial",
            "_view_module": "@jupyter-widgets/base",
            "_model_module_version": "1.5.0",
            "_view_count": null,
            "_view_module_version": "1.2.0",
            "bar_color": null,
            "_model_module": "@jupyter-widgets/controls"
          }
        },
        "f440ef19068e41c39f936332a1f1c94a": {
          "model_module": "@jupyter-widgets/base",
          "model_name": "LayoutModel",
          "state": {
            "_view_name": "LayoutView",
            "grid_template_rows": null,
            "right": null,
            "justify_content": null,
            "_view_module": "@jupyter-widgets/base",
            "overflow": null,
            "_model_module_version": "1.2.0",
            "_view_count": null,
            "flex_flow": null,
            "width": null,
            "min_width": null,
            "border": null,
            "align_items": null,
            "bottom": null,
            "_model_module": "@jupyter-widgets/base",
            "top": null,
            "grid_column": null,
            "overflow_y": null,
            "overflow_x": null,
            "grid_auto_flow": null,
            "grid_area": null,
            "grid_template_columns": null,
            "flex": null,
            "_model_name": "LayoutModel",
            "justify_items": null,
            "grid_row": null,
            "max_height": null,
            "align_content": null,
            "visibility": null,
            "align_self": null,
            "height": null,
            "min_height": null,
            "padding": null,
            "grid_auto_rows": null,
            "grid_gap": null,
            "max_width": null,
            "order": null,
            "_view_module_version": "1.2.0",
            "grid_template_areas": null,
            "object_position": null,
            "object_fit": null,
            "grid_auto_columns": null,
            "margin": null,
            "display": null,
            "left": null
          }
        },
        "c4421ce23c5946e9a7bd77d3deb129b9": {
          "model_module": "@jupyter-widgets/controls",
          "model_name": "DescriptionStyleModel",
          "state": {
            "_view_name": "StyleView",
            "_model_name": "DescriptionStyleModel",
            "description_width": "",
            "_view_module": "@jupyter-widgets/base",
            "_model_module_version": "1.5.0",
            "_view_count": null,
            "_view_module_version": "1.2.0",
            "_model_module": "@jupyter-widgets/controls"
          }
        },
        "0b33b54e0dc84762974052368b008b44": {
          "model_module": "@jupyter-widgets/base",
          "model_name": "LayoutModel",
          "state": {
            "_view_name": "LayoutView",
            "grid_template_rows": null,
            "right": null,
            "justify_content": null,
            "_view_module": "@jupyter-widgets/base",
            "overflow": null,
            "_model_module_version": "1.2.0",
            "_view_count": null,
            "flex_flow": null,
            "width": null,
            "min_width": null,
            "border": null,
            "align_items": null,
            "bottom": null,
            "_model_module": "@jupyter-widgets/base",
            "top": null,
            "grid_column": null,
            "overflow_y": null,
            "overflow_x": null,
            "grid_auto_flow": null,
            "grid_area": null,
            "grid_template_columns": null,
            "flex": null,
            "_model_name": "LayoutModel",
            "justify_items": null,
            "grid_row": null,
            "max_height": null,
            "align_content": null,
            "visibility": null,
            "align_self": null,
            "height": null,
            "min_height": null,
            "padding": null,
            "grid_auto_rows": null,
            "grid_gap": null,
            "max_width": null,
            "order": null,
            "_view_module_version": "1.2.0",
            "grid_template_areas": null,
            "object_position": null,
            "object_fit": null,
            "grid_auto_columns": null,
            "margin": null,
            "display": null,
            "left": null
          }
        },
        "b2449a803ae5428b8562cb41178d74ac": {
          "model_module": "@jupyter-widgets/controls",
          "model_name": "HBoxModel",
          "state": {
            "_view_name": "HBoxView",
            "_dom_classes": [],
            "_model_name": "HBoxModel",
            "_view_module": "@jupyter-widgets/controls",
            "_model_module_version": "1.5.0",
            "_view_count": null,
            "_view_module_version": "1.5.0",
            "box_style": "",
            "layout": "IPY_MODEL_50c9c81039f148b69fdf26b33595f0ee",
            "_model_module": "@jupyter-widgets/controls",
            "children": [
              "IPY_MODEL_89eadd6445034ef1be217cea2dfc9fa8",
              "IPY_MODEL_7ae33eeb8e4947d1a1b2709fdfa6628a"
            ]
          }
        },
        "50c9c81039f148b69fdf26b33595f0ee": {
          "model_module": "@jupyter-widgets/base",
          "model_name": "LayoutModel",
          "state": {
            "_view_name": "LayoutView",
            "grid_template_rows": null,
            "right": null,
            "justify_content": null,
            "_view_module": "@jupyter-widgets/base",
            "overflow": null,
            "_model_module_version": "1.2.0",
            "_view_count": null,
            "flex_flow": null,
            "width": null,
            "min_width": null,
            "border": null,
            "align_items": null,
            "bottom": null,
            "_model_module": "@jupyter-widgets/base",
            "top": null,
            "grid_column": null,
            "overflow_y": null,
            "overflow_x": null,
            "grid_auto_flow": null,
            "grid_area": null,
            "grid_template_columns": null,
            "flex": null,
            "_model_name": "LayoutModel",
            "justify_items": null,
            "grid_row": null,
            "max_height": null,
            "align_content": null,
            "visibility": null,
            "align_self": null,
            "height": null,
            "min_height": null,
            "padding": null,
            "grid_auto_rows": null,
            "grid_gap": null,
            "max_width": null,
            "order": null,
            "_view_module_version": "1.2.0",
            "grid_template_areas": null,
            "object_position": null,
            "object_fit": null,
            "grid_auto_columns": null,
            "margin": null,
            "display": null,
            "left": null
          }
        },
        "89eadd6445034ef1be217cea2dfc9fa8": {
          "model_module": "@jupyter-widgets/controls",
          "model_name": "FloatProgressModel",
          "state": {
            "_view_name": "ProgressView",
            "style": "IPY_MODEL_58206f7cf3ee4b25bcc17e3390d9341a",
            "_dom_classes": [],
            "description": "100%",
            "_model_name": "FloatProgressModel",
            "bar_style": "success",
            "max": 102502400,
            "_view_module": "@jupyter-widgets/controls",
            "_model_module_version": "1.5.0",
            "value": 102502400,
            "_view_count": null,
            "_view_module_version": "1.5.0",
            "orientation": "horizontal",
            "min": 0,
            "description_tooltip": null,
            "_model_module": "@jupyter-widgets/controls",
            "layout": "IPY_MODEL_49724e32781749c383c18d45fb0cc951"
          }
        },
        "7ae33eeb8e4947d1a1b2709fdfa6628a": {
          "model_module": "@jupyter-widgets/controls",
          "model_name": "HTMLModel",
          "state": {
            "_view_name": "HTMLView",
            "style": "IPY_MODEL_c2032f69995346b799f78c8be3ab99e1",
            "_dom_classes": [],
            "description": "",
            "_model_name": "HTMLModel",
            "placeholder": "​",
            "_view_module": "@jupyter-widgets/controls",
            "_model_module_version": "1.5.0",
            "value": " 97.8M/97.8M [00:01&lt;00:00, 92.7MB/s]",
            "_view_count": null,
            "_view_module_version": "1.5.0",
            "description_tooltip": null,
            "_model_module": "@jupyter-widgets/controls",
            "layout": "IPY_MODEL_d763211e711d4aba9f8819337076aab4"
          }
        },
        "58206f7cf3ee4b25bcc17e3390d9341a": {
          "model_module": "@jupyter-widgets/controls",
          "model_name": "ProgressStyleModel",
          "state": {
            "_view_name": "StyleView",
            "_model_name": "ProgressStyleModel",
            "description_width": "initial",
            "_view_module": "@jupyter-widgets/base",
            "_model_module_version": "1.5.0",
            "_view_count": null,
            "_view_module_version": "1.2.0",
            "bar_color": null,
            "_model_module": "@jupyter-widgets/controls"
          }
        },
        "49724e32781749c383c18d45fb0cc951": {
          "model_module": "@jupyter-widgets/base",
          "model_name": "LayoutModel",
          "state": {
            "_view_name": "LayoutView",
            "grid_template_rows": null,
            "right": null,
            "justify_content": null,
            "_view_module": "@jupyter-widgets/base",
            "overflow": null,
            "_model_module_version": "1.2.0",
            "_view_count": null,
            "flex_flow": null,
            "width": null,
            "min_width": null,
            "border": null,
            "align_items": null,
            "bottom": null,
            "_model_module": "@jupyter-widgets/base",
            "top": null,
            "grid_column": null,
            "overflow_y": null,
            "overflow_x": null,
            "grid_auto_flow": null,
            "grid_area": null,
            "grid_template_columns": null,
            "flex": null,
            "_model_name": "LayoutModel",
            "justify_items": null,
            "grid_row": null,
            "max_height": null,
            "align_content": null,
            "visibility": null,
            "align_self": null,
            "height": null,
            "min_height": null,
            "padding": null,
            "grid_auto_rows": null,
            "grid_gap": null,
            "max_width": null,
            "order": null,
            "_view_module_version": "1.2.0",
            "grid_template_areas": null,
            "object_position": null,
            "object_fit": null,
            "grid_auto_columns": null,
            "margin": null,
            "display": null,
            "left": null
          }
        },
        "c2032f69995346b799f78c8be3ab99e1": {
          "model_module": "@jupyter-widgets/controls",
          "model_name": "DescriptionStyleModel",
          "state": {
            "_view_name": "StyleView",
            "_model_name": "DescriptionStyleModel",
            "description_width": "",
            "_view_module": "@jupyter-widgets/base",
            "_model_module_version": "1.5.0",
            "_view_count": null,
            "_view_module_version": "1.2.0",
            "_model_module": "@jupyter-widgets/controls"
          }
        },
        "d763211e711d4aba9f8819337076aab4": {
          "model_module": "@jupyter-widgets/base",
          "model_name": "LayoutModel",
          "state": {
            "_view_name": "LayoutView",
            "grid_template_rows": null,
            "right": null,
            "justify_content": null,
            "_view_module": "@jupyter-widgets/base",
            "overflow": null,
            "_model_module_version": "1.2.0",
            "_view_count": null,
            "flex_flow": null,
            "width": null,
            "min_width": null,
            "border": null,
            "align_items": null,
            "bottom": null,
            "_model_module": "@jupyter-widgets/base",
            "top": null,
            "grid_column": null,
            "overflow_y": null,
            "overflow_x": null,
            "grid_auto_flow": null,
            "grid_area": null,
            "grid_template_columns": null,
            "flex": null,
            "_model_name": "LayoutModel",
            "justify_items": null,
            "grid_row": null,
            "max_height": null,
            "align_content": null,
            "visibility": null,
            "align_self": null,
            "height": null,
            "min_height": null,
            "padding": null,
            "grid_auto_rows": null,
            "grid_gap": null,
            "max_width": null,
            "order": null,
            "_view_module_version": "1.2.0",
            "grid_template_areas": null,
            "object_position": null,
            "object_fit": null,
            "grid_auto_columns": null,
            "margin": null,
            "display": null,
            "left": null
          }
        }
      }
    }
  },
  "cells": [
    {
      "cell_type": "markdown",
      "metadata": {
        "id": "FbgxAx7sXTqO",
        "colab_type": "text"
      },
      "source": [
        "**Transfer Learning example with CIFAR10 Dataset using PyTorch and ResNet50**"
      ]
    },
    {
      "cell_type": "code",
      "metadata": {
        "id": "s19m8uheAKAp",
        "colab_type": "code",
        "colab": {}
      },
      "source": [
        "import torch\n",
        "import numpy as np\n",
        "from torchvision import datasets \n",
        "import torch.nn as nn\n",
        "import torchvision.transforms as transforms\n",
        "from torch.utils.data.sampler import SubsetRandomSampler\n",
        "from torchvision.utils import make_grid\n",
        "import matplotlib.pyplot as plt"
      ],
      "execution_count": 1,
      "outputs": []
    },
    {
      "cell_type": "code",
      "metadata": {
        "id": "2uBWJocjAGhb",
        "colab_type": "code",
        "colab": {}
      },
      "source": [
        "#Transform operation to normalized torch.FloatTensor\n",
        "transform = transforms.Compose([\n",
        "    transforms.Resize(256),\n",
        "    transforms.CenterCrop(224),\n",
        "    transforms.ToTensor(),\n",
        "    transforms.Normalize(mean=[0.485, 0.456, 0.406], std=[0.229, 0.224, 0.225]),\n",
        "])"
      ],
      "execution_count": 2,
      "outputs": []
    },
    {
      "cell_type": "code",
      "metadata": {
        "id": "7bU3rhOVAURI",
        "colab_type": "code",
        "colab": {
          "base_uri": "https://localhost:8080/",
          "height": 100,
          "referenced_widgets": [
            "d0eb3121159242b79c112588301c288b",
            "0e809541f48f4e188bc66639925d081f",
            "a7ed57285ac84af89899b4a834181257",
            "a27d442ad1b74cd186d0919a4508d08d",
            "5a32e26c434c4ffcaceba3942f24a20a",
            "f440ef19068e41c39f936332a1f1c94a",
            "c4421ce23c5946e9a7bd77d3deb129b9",
            "0b33b54e0dc84762974052368b008b44"
          ]
        },
        "outputId": "9b4c55a1-b373-41b0-a288-59d31f8b742b"
      },
      "source": [
        "#Downloading datasets\n",
        "train_data = datasets.CIFAR10('data', train=True, download=True, transform=transform)\n",
        "test_data = datasets.CIFAR10('data', train=False, download=True, transform=transform)"
      ],
      "execution_count": 3,
      "outputs": [
        {
          "output_type": "stream",
          "text": [
            "Downloading https://www.cs.toronto.edu/~kriz/cifar-10-python.tar.gz to data/cifar-10-python.tar.gz\n"
          ],
          "name": "stdout"
        },
        {
          "output_type": "display_data",
          "data": {
            "application/vnd.jupyter.widget-view+json": {
              "model_id": "d0eb3121159242b79c112588301c288b",
              "version_minor": 0,
              "version_major": 2
            },
            "text/plain": [
              "HBox(children=(FloatProgress(value=1.0, bar_style='info', max=1.0), HTML(value='')))"
            ]
          },
          "metadata": {
            "tags": []
          }
        },
        {
          "output_type": "stream",
          "text": [
            "Extracting data/cifar-10-python.tar.gz to data\n",
            "Files already downloaded and verified\n"
          ],
          "name": "stdout"
        }
      ]
    },
    {
      "cell_type": "code",
      "metadata": {
        "id": "4DtEODUy4lCC",
        "colab_type": "code",
        "colab": {
          "base_uri": "https://localhost:8080/",
          "height": 100,
          "referenced_widgets": [
            "b2449a803ae5428b8562cb41178d74ac",
            "50c9c81039f148b69fdf26b33595f0ee",
            "89eadd6445034ef1be217cea2dfc9fa8",
            "7ae33eeb8e4947d1a1b2709fdfa6628a",
            "58206f7cf3ee4b25bcc17e3390d9341a",
            "49724e32781749c383c18d45fb0cc951",
            "c2032f69995346b799f78c8be3ab99e1",
            "d763211e711d4aba9f8819337076aab4"
          ]
        },
        "outputId": "3bfc0161-5a6d-4fc5-f4a7-f4bd666740bd"
      },
      "source": [
        "#Downloading the model\n",
        "model = torch.hub.load('pytorch/vision:v0.6.0', 'resnet50', pretrained=True)"
      ],
      "execution_count": 4,
      "outputs": [
        {
          "output_type": "stream",
          "text": [
            "Downloading: \"https://github.com/pytorch/vision/archive/v0.6.0.zip\" to /root/.cache/torch/hub/v0.6.0.zip\n",
            "Downloading: \"https://download.pytorch.org/models/resnet50-19c8e357.pth\" to /root/.cache/torch/hub/checkpoints/resnet50-19c8e357.pth\n"
          ],
          "name": "stderr"
        },
        {
          "output_type": "display_data",
          "data": {
            "application/vnd.jupyter.widget-view+json": {
              "model_id": "b2449a803ae5428b8562cb41178d74ac",
              "version_minor": 0,
              "version_major": 2
            },
            "text/plain": [
              "HBox(children=(FloatProgress(value=0.0, max=102502400.0), HTML(value='')))"
            ]
          },
          "metadata": {
            "tags": []
          }
        },
        {
          "output_type": "stream",
          "text": [
            "\n"
          ],
          "name": "stdout"
        }
      ]
    },
    {
      "cell_type": "code",
      "metadata": {
        "id": "mkaZ4O4r8AFZ",
        "colab_type": "code",
        "colab": {}
      },
      "source": [
        "#Spliting data\n",
        "len_train=len(train_data)\n",
        "index = list(range(len_train))\n",
        "np.random.shuffle(index)\n",
        "split = int(np.floor(0.2*len_train)) \n",
        "train_idx, valid_idx = index[split:], index[:split]"
      ],
      "execution_count": 5,
      "outputs": []
    },
    {
      "cell_type": "code",
      "metadata": {
        "id": "9Roc8s878DwP",
        "colab_type": "code",
        "colab": {}
      },
      "source": [
        "#Samplers and Dataloaders\n",
        "train_sampler = SubsetRandomSampler(train_idx)\n",
        "valid_sampler = SubsetRandomSampler(valid_idx)\n",
        "\n",
        "train_loader = torch.utils.data.DataLoader(train_data, batch_size=30,sampler = train_sampler)\n",
        "valid_loader = torch.utils.data.DataLoader(train_data, batch_size=30,sampler = valid_sampler)\n",
        "test_loader = torch.utils.data.DataLoader(test_data, batch_size=30,sampler = train_sampler)"
      ],
      "execution_count": 6,
      "outputs": []
    },
    {
      "cell_type": "code",
      "metadata": {
        "id": "kb6ycHZU8Iqv",
        "colab_type": "code",
        "colab": {}
      },
      "source": [
        "cls = ['airplane', 'automobile','bird','cat','deer','dog','frog','horse','ship','truck']"
      ],
      "execution_count": 7,
      "outputs": []
    },
    {
      "cell_type": "code",
      "metadata": {
        "id": "-qW4zu7Y8cfu",
        "colab_type": "code",
        "colab": {}
      },
      "source": [
        "for param in model.parameters():\n",
        "  param.requires_grad=False\n"
      ],
      "execution_count": 8,
      "outputs": []
    },
    {
      "cell_type": "code",
      "metadata": {
        "id": "fbgBfJ7v_AvX",
        "colab_type": "code",
        "colab": {
          "base_uri": "https://localhost:8080/",
          "height": 34
        },
        "outputId": "8e7f6683-f010-4443-f43e-0a195b956914"
      },
      "source": [
        "print(model.fc)"
      ],
      "execution_count": 9,
      "outputs": [
        {
          "output_type": "stream",
          "text": [
            "Linear(in_features=2048, out_features=1000, bias=True)\n"
          ],
          "name": "stdout"
        }
      ]
    },
    {
      "cell_type": "code",
      "metadata": {
        "id": "9J6VCm2y8tXn",
        "colab_type": "code",
        "colab": {}
      },
      "source": [
        "model.fc = nn.Sequential(nn.Linear(2048,1000), nn.ReLU(),nn.Dropout(0.4),nn.Linear(1000,10))"
      ],
      "execution_count": 10,
      "outputs": []
    },
    {
      "cell_type": "code",
      "metadata": {
        "id": "xify2R9R9E1e",
        "colab_type": "code",
        "colab": {}
      },
      "source": [
        "#Sending the model to CUDA\n",
        "if torch.cuda.is_available():model.cuda()\n",
        "criterion = nn.CrossEntropyLoss()\n",
        "optimizer = torch.optim.Adam(model.fc.parameters(),lr=0.001)"
      ],
      "execution_count": 11,
      "outputs": []
    },
    {
      "cell_type": "code",
      "metadata": {
        "id": "Sgcj5zaV5Jdx",
        "colab_type": "code",
        "colab": {
          "base_uri": "https://localhost:8080/",
          "height": 1000
        },
        "outputId": "0b6624bd-2aed-47c2-fcf4-f6a50956b076"
      },
      "source": [
        "n_epochs = 30\n",
        "\n",
        "valid_loss_min = np.Inf\n",
        "\n",
        "for epoch in range(n_epochs):\n",
        "  train_loss = 0\n",
        "  valid_loss = 0\n",
        "\n",
        "  model.train()\n",
        "  for data, target in train_loader:\n",
        "    if torch.cuda.is_available(): data, target = data.cuda(), target.cuda()\n",
        "    optimizer.zero_grad()\n",
        "    out=model(data)\n",
        "    loss = criterion(out, target)\n",
        "    loss.backward()\n",
        "    optimizer.step()\n",
        "    train_loss +=loss.item()*data.size(0)\n",
        "\n",
        "  model.eval()\n",
        "  for data, target in valid_loader:\n",
        "    if torch.cuda.is_available(): data, target = data.cuda(), target.cuda()\n",
        "    out=model(data)\n",
        "    loss = criterion(out, target)\n",
        "    valid_loss +=loss.item()*data.size(0)\n",
        "\n",
        "  \n",
        "  train_loss = train_loss/len(train_loader.sampler)\n",
        "  valid_loss = valid_loss/len(valid_loader.sampler)\n",
        "\n",
        "  print('Epoch: {} \\tTraining Loss: {:.6f} \\tValidation Loss: {:6f}'.format(epoch, train_loss, valid_loss))\n",
        "\n",
        "  if valid_loss <= valid_loss_min: print('Saving. Valid loss {:.6f}'.format(valid_loss))\n"
      ],
      "execution_count": 13,
      "outputs": [
        {
          "output_type": "stream",
          "text": [
            "Epoch: 0 \tTraining Loss: 1.000123 \tValidation Loss: 0.693187\n",
            "Saving. Valid loss 0.693187\n",
            "Epoch: 1 \tTraining Loss: 0.840692 \tValidation Loss: 0.677902\n",
            "Saving. Valid loss 0.677902\n",
            "Epoch: 2 \tTraining Loss: 0.811567 \tValidation Loss: 0.645140\n",
            "Saving. Valid loss 0.645140\n",
            "Epoch: 3 \tTraining Loss: 0.787260 \tValidation Loss: 0.623511\n",
            "Saving. Valid loss 0.623511\n",
            "Epoch: 4 \tTraining Loss: 0.774209 \tValidation Loss: 0.627023\n",
            "Saving. Valid loss 0.627023\n",
            "Epoch: 5 \tTraining Loss: 0.753063 \tValidation Loss: 0.626805\n",
            "Saving. Valid loss 0.626805\n",
            "Epoch: 6 \tTraining Loss: 0.738036 \tValidation Loss: 0.642504\n",
            "Saving. Valid loss 0.642504\n",
            "Epoch: 7 \tTraining Loss: 0.724547 \tValidation Loss: 0.624163\n",
            "Saving. Valid loss 0.624163\n",
            "Epoch: 8 \tTraining Loss: 0.720632 \tValidation Loss: 0.607064\n",
            "Saving. Valid loss 0.607064\n",
            "Epoch: 9 \tTraining Loss: 0.717522 \tValidation Loss: 0.603427\n",
            "Saving. Valid loss 0.603427\n",
            "Epoch: 10 \tTraining Loss: 0.705051 \tValidation Loss: 0.619655\n",
            "Saving. Valid loss 0.619655\n",
            "Epoch: 11 \tTraining Loss: 0.696172 \tValidation Loss: 0.604518\n",
            "Saving. Valid loss 0.604518\n",
            "Epoch: 12 \tTraining Loss: 0.691108 \tValidation Loss: 0.595666\n",
            "Saving. Valid loss 0.595666\n",
            "Epoch: 13 \tTraining Loss: 0.681148 \tValidation Loss: 0.601692\n",
            "Saving. Valid loss 0.601692\n",
            "Epoch: 14 \tTraining Loss: 0.679315 \tValidation Loss: 0.586704\n",
            "Saving. Valid loss 0.586704\n",
            "Epoch: 15 \tTraining Loss: 0.675533 \tValidation Loss: 0.607902\n",
            "Saving. Valid loss 0.607902\n",
            "Epoch: 16 \tTraining Loss: 0.668479 \tValidation Loss: 0.591548\n",
            "Saving. Valid loss 0.591548\n",
            "Epoch: 17 \tTraining Loss: 0.659395 \tValidation Loss: 0.577608\n",
            "Saving. Valid loss 0.577608\n",
            "Epoch: 18 \tTraining Loss: 0.654845 \tValidation Loss: 0.574842\n",
            "Saving. Valid loss 0.574842\n",
            "Epoch: 19 \tTraining Loss: 0.654974 \tValidation Loss: 0.580750\n",
            "Saving. Valid loss 0.580750\n",
            "Epoch: 20 \tTraining Loss: 0.644470 \tValidation Loss: 0.579842\n",
            "Saving. Valid loss 0.579842\n",
            "Epoch: 21 \tTraining Loss: 0.641237 \tValidation Loss: 0.569142\n",
            "Saving. Valid loss 0.569142\n",
            "Epoch: 22 \tTraining Loss: 0.631738 \tValidation Loss: 0.583166\n",
            "Saving. Valid loss 0.583166\n",
            "Epoch: 23 \tTraining Loss: 0.629816 \tValidation Loss: 0.573960\n",
            "Saving. Valid loss 0.573960\n",
            "Epoch: 24 \tTraining Loss: 0.625984 \tValidation Loss: 0.569636\n",
            "Saving. Valid loss 0.569636\n",
            "Epoch: 25 \tTraining Loss: 0.622696 \tValidation Loss: 0.588090\n",
            "Saving. Valid loss 0.588090\n",
            "Epoch: 26 \tTraining Loss: 0.624460 \tValidation Loss: 0.571782\n",
            "Saving. Valid loss 0.571782\n",
            "Epoch: 27 \tTraining Loss: 0.608355 \tValidation Loss: 0.577628\n",
            "Saving. Valid loss 0.577628\n",
            "Epoch: 28 \tTraining Loss: 0.609466 \tValidation Loss: 0.597147\n",
            "Saving. Valid loss 0.597147\n",
            "Epoch: 29 \tTraining Loss: 0.611729 \tValidation Loss: 0.577895\n",
            "Saving. Valid loss 0.577895\n"
          ],
          "name": "stdout"
        }
      ]
    }
  ]
}